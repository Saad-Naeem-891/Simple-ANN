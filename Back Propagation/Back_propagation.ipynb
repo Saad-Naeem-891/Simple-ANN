{
  "nbformat": 4,
  "nbformat_minor": 0,
  "metadata": {
    "colab": {
      "provenance": []
    },
    "kernelspec": {
      "name": "python3",
      "display_name": "Python 3"
    },
    "language_info": {
      "name": "python"
    }
  },
  "cells": [
    {
      "cell_type": "code",
      "execution_count": 1,
      "metadata": {
        "id": "5HJ_jla312eq"
      },
      "outputs": [],
      "source": [
        "import numpy as np"
      ]
    },
    {
      "cell_type": "code",
      "source": [
        "def sigmoid(x):\n",
        "    return 1 / (1 + np.exp(-x))"
      ],
      "metadata": {
        "id": "-XdLY-Le17cj"
      },
      "execution_count": 2,
      "outputs": []
    },
    {
      "cell_type": "code",
      "source": [
        "def sigmoid_derivative(x):\n",
        "    return x * (1 - x)"
      ],
      "metadata": {
        "id": "yv5ZM_Ze1-06"
      },
      "execution_count": 3,
      "outputs": []
    },
    {
      "cell_type": "code",
      "source": [
        "# Input\n",
        "X = np.array([[0.05, 0.10]])\n",
        "\n",
        "y_target = np.array([[0.01, 0.99]])"
      ],
      "metadata": {
        "id": "PkjIqDF12Ady"
      },
      "execution_count": 9,
      "outputs": []
    },
    {
      "cell_type": "code",
      "source": [
        "W1 = np.array([[0.15, 0.25], [0.20, 0.30]])\n",
        "b1 = np.array([[0.35, 0.35]])\n",
        "\n",
        "W2 = np.array([[0.40, 0.50], [0.45, 0.55]])\n",
        "b2 = np.array([[0.60, 0.60]])"
      ],
      "metadata": {
        "id": "luMHjl9t2CZ6"
      },
      "execution_count": 11,
      "outputs": []
    },
    {
      "cell_type": "code",
      "source": [
        "# Fed Forward\n",
        "hidden_input = np.dot(X, W1) + b1\n",
        "hidden_output = sigmoid(hidden_input)\n",
        "\n",
        "output_input = np.dot(hidden_output, W2) + b2\n",
        "output = sigmoid(output_input)\n"
      ],
      "metadata": {
        "id": "cWt_z5dZ2D78"
      },
      "execution_count": 12,
      "outputs": []
    },
    {
      "cell_type": "code",
      "source": [
        "# Compute error\n",
        "error = 0.5 * np.sum((y_target - output) ** 2)\n",
        "print(f\"Error: {error}\")\n"
      ],
      "metadata": {
        "colab": {
          "base_uri": "https://localhost:8080/"
        },
        "id": "YTPZJTjf2GCM",
        "outputId": "db9b3af0-b637-4357-9cb4-ba2d2ca4f66a"
      },
      "execution_count": 14,
      "outputs": [
        {
          "output_type": "stream",
          "name": "stdout",
          "text": [
            "Error: 0.2983711087600027\n"
          ]
        }
      ]
    },
    {
      "cell_type": "code",
      "source": [
        "# Backprop\n",
        "# output error\n",
        "delta_output = (output - y_target) * sigmoid_derivative(output)\n",
        "\n",
        "# hidden error\n",
        "delta_hidden = np.dot(delta_output, W2.T) * sigmoid_derivative(hidden_output)\n",
        "\n",
        "# Compute gradients\n",
        "W2_gradient = np.dot(hidden_output.T, delta_output)\n",
        "b2_gradient = np.sum(delta_output, axis=0, keepdims=True)\n",
        "\n",
        "W1_gradient = np.dot(X.T, delta_hidden)\n",
        "b1_gradient = np.sum(delta_hidden, axis=0, keepdims=True)\n",
        "\n",
        "lr = 0.5\n",
        "\n",
        "# Update\n",
        "W2 -= lr * W2_gradient\n",
        "b2 -= lr * b2_gradient\n",
        "\n",
        "W1 -= lr * W1_gradient\n",
        "b1 -= lr * b1_gradient\n",
        "\n",
        "# Fed Forward again\n",
        "hidden_input = np.dot(X, W1) + b1\n",
        "hidden_output = sigmoid(hidden_input)\n",
        "\n",
        "output_input = np.dot(hidden_output, W2) + b2\n",
        "output = sigmoid(output_input)\n",
        "\n",
        "# error new\n",
        "error = 0.5 * np.sum((y_target - output) ** 2)\n",
        "print(\"Updated Error:\", error)\n",
        "\n",
        "print(f\"W2: {W2}\")\n",
        "print(\" \")\n",
        "print(f\"b2: {b2}\")\n",
        "\n",
        "print(\" \")\n",
        "\n",
        "print(f\"W2: {W1}\")\n",
        "print(\" \")\n",
        "print(f\"b2: {b1}\")"
      ],
      "metadata": {
        "colab": {
          "base_uri": "https://localhost:8080/"
        },
        "id": "fh4t9b_Q2HNL",
        "outputId": "c741e9cc-d69a-4058-f3df-612268738e86"
      },
      "execution_count": 20,
      "outputs": [
        {
          "output_type": "stream",
          "name": "stdout",
          "text": [
            "Updated Error: 0.1868957476561393\n",
            "W2: [[0.14572348 0.56111068]\n",
            " [0.19433083 0.61144752]]\n",
            " \n",
            "b2: [[0.16976337 0.70337944]]\n",
            " \n",
            "W2: [[0.14912874 0.24893732]\n",
            " [0.19825747 0.29787463]]\n",
            " \n",
            "b2: [[0.33257473 0.32874631]]\n"
          ]
        }
      ]
    },
    {
      "cell_type": "code",
      "source": [],
      "metadata": {
        "id": "gEIn_aHa2I9j"
      },
      "execution_count": null,
      "outputs": []
    }
  ]
}